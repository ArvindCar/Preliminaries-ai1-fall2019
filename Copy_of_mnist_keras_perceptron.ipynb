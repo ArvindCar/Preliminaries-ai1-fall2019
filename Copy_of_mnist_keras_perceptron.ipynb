{
  "nbformat": 4,
  "nbformat_minor": 0,
  "metadata": {
    "colab": {
      "name": "Copy of mnist-keras-perceptron.ipynb",
      "provenance": [],
      "collapsed_sections": [],
      "include_colab_link": true
    },
    "kernelspec": {
      "name": "python3",
      "display_name": "Python 3"
    },
    "accelerator": "TPU"
  },
  "cells": [
    {
      "cell_type": "markdown",
      "metadata": {
        "id": "view-in-github",
        "colab_type": "text"
      },
      "source": [
        "<a href=\"https://colab.research.google.com/github/ArvindCar/Preliminaries-ai1-fall2019/blob/master/Copy_of_mnist_keras_perceptron.ipynb\" target=\"_parent\"><img src=\"https://colab.research.google.com/assets/colab-badge.svg\" alt=\"Open In Colab\"/></a>"
      ]
    },
    {
      "cell_type": "code",
      "metadata": {
        "id": "0rrbVKm5n6E3",
        "colab_type": "code",
        "colab": {}
      },
      "source": [
        "# taken from lukas/ml-class\n",
        "import numpy as np\n",
        "from keras.datasets import mnist\n",
        "from keras.models import Sequential\n",
        "from keras.layers import Dense, Flatten, Dropout\n",
        "from keras.utils import np_utils\n",
        "from keras.callbacks import Callback\n",
        "import json\n",
        "\n",
        "# from wandb.keras import WandbCallback\n",
        "# import wandb\n",
        "\n",
        "# run = wandb.init()\n",
        "# config = run.config\n",
        "\n",
        "\n",
        "\n",
        "\n",
        "\n"
      ],
      "execution_count": 0,
      "outputs": []
    },
    {
      "cell_type": "code",
      "metadata": {
        "id": "YKJceTk58B0K",
        "colab_type": "code",
        "outputId": "1c97a2c2-77eb-4a50-c88b-69bf73c897a2",
        "colab": {
          "base_uri": "https://localhost:8080/",
          "height": 34
        }
      },
      "source": [
        "class Config:\n",
        "  pass\n",
        "\n",
        "config = Config()\n",
        "config.optimizer = \"adam\"\n",
        "config.epochs = 30\n",
        "config.hidden_nodes = 30\n",
        "\n",
        "# load data\n",
        "(X_train, y_train), (X_test, y_test) = mnist.load_data()\n",
        "img_width = X_train.shape[1]\n",
        "img_height = X_train.shape[2]\n",
        "print(X_train.shape, y_train.shape)\n",
        "#X_train = X_train.astype('float32')\n",
        "#X_train /= 255.\n",
        "#X_test = X_test.astype('float32')\n",
        "#X_test /= 255.\n",
        "\n",
        "# Normalize, change learning rate, play with layer size, batchsize\n",
        "\n",
        "# one hot encode outputs\n",
        "y_train = np_utils.to_categorical(y_train)\n",
        "y_test = np_utils.to_categorical(y_test)\n",
        "labels = range(10)\n",
        "\n",
        "num_classes = y_train.shape[1]"
      ],
      "execution_count": 0,
      "outputs": [
        {
          "output_type": "stream",
          "text": [
            "(60000, 28, 28) (60000,)\n"
          ],
          "name": "stdout"
        }
      ]
    },
    {
      "cell_type": "code",
      "metadata": {
        "id": "KJXrOMj5SV1e",
        "colab_type": "code",
        "outputId": "47b115ce-b409-4ecd-f19a-577467afca27",
        "colab": {
          "base_uri": "https://localhost:8080/",
          "height": 295
        }
      },
      "source": [
        "# create model\n",
        "model = Sequential()\n",
        "model.add(Flatten(input_shape=(img_width, img_height)))\n",
        "model.add(Dense(config.hidden_nodes, activation='relu'))\n",
        "model.add(Dense(config.hidden_nodes, activation='relu'))\n",
        "model.add(Dense(num_classes, activation='softmax'))\n",
        "model.compile(loss='categorical_crossentropy', optimizer=config.optimizer,\n",
        "              metrics=['accuracy'])\n",
        "model.summary()"
      ],
      "execution_count": 0,
      "outputs": [
        {
          "output_type": "stream",
          "text": [
            "Model: \"sequential_3\"\n",
            "_________________________________________________________________\n",
            "Layer (type)                 Output Shape              Param #   \n",
            "=================================================================\n",
            "flatten_3 (Flatten)          (None, 784)               0         \n",
            "_________________________________________________________________\n",
            "dense_7 (Dense)              (None, 30)                23550     \n",
            "_________________________________________________________________\n",
            "dense_8 (Dense)              (None, 30)                930       \n",
            "_________________________________________________________________\n",
            "dense_9 (Dense)              (None, 10)                310       \n",
            "=================================================================\n",
            "Total params: 24,790\n",
            "Trainable params: 24,790\n",
            "Non-trainable params: 0\n",
            "_________________________________________________________________\n"
          ],
          "name": "stdout"
        }
      ]
    },
    {
      "cell_type": "markdown",
      "metadata": {
        "id": "Qd_W29wIa3dX",
        "colab_type": "text"
      },
      "source": [
        "# For The Above Code\n",
        "### Sequential: \n",
        "  Allows us to define the multi layered neural network\n",
        "### Flatten:\n",
        "  Converts the 28 X 28 screen into a 784 element vector\n",
        "### Dense:\n",
        "  This allows us to define the layers and the relation between them\n",
        "### config.hidden_nodes:\n",
        "  This tells us how many nodes there are in the second and third layer (first layer is input, fourth layer is output) \n",
        "### num_classes:\n",
        "This tells us the number of final outputs we have(ie 10)\n",
        "### softmax:\n",
        "This is a function to make sure that the sum of all the final predictions is =1 \n",
        "\n",
        "Suppose the final layr has 2 outputs instead of 10:\n",
        "we get $y_1=e^{w_2*x}/(e^{w_1*x}+e^{w_2*x})$\n",
        "       $y_2=e^{w_2*x}/(e^{w_1*x}+e^{w_2*x})$\n",
        "       \n",
        "Unlike Sigmoid, this gives an equal no of outputs as inputs, whereas sigmoid gives us only 1 output ie = $1/(1+e^{-(w_1*x+w_2*x)})$\n"
      ]
    },
    {
      "cell_type": "code",
      "metadata": {
        "id": "gtLfkqXJaCh_",
        "colab_type": "code",
        "colab": {}
      },
      "source": [
        "import numpy as np"
      ],
      "execution_count": 0,
      "outputs": []
    },
    {
      "cell_type": "code",
      "metadata": {
        "id": "YiCCwz_haO2R",
        "colab_type": "code",
        "outputId": "30dad9bc-e851-44f5-dd22-f00d758f8df2",
        "colab": {
          "base_uri": "https://localhost:8080/",
          "height": 990
        }
      },
      "source": [
        "print(np.matrix(X_train[0]))"
      ],
      "execution_count": 0,
      "outputs": [
        {
          "output_type": "stream",
          "text": [
            "[[  0   0   0   0   0   0   0   0   0   0   0   0   0   0   0   0   0   0\n",
            "    0   0   0   0   0   0   0   0   0   0]\n",
            " [  0   0   0   0   0   0   0   0   0   0   0   0   0   0   0   0   0   0\n",
            "    0   0   0   0   0   0   0   0   0   0]\n",
            " [  0   0   0   0   0   0   0   0   0   0   0   0   0   0   0   0   0   0\n",
            "    0   0   0   0   0   0   0   0   0   0]\n",
            " [  0   0   0   0   0   0   0   0   0   0   0   0   0   0   0   0   0   0\n",
            "    0   0   0   0   0   0   0   0   0   0]\n",
            " [  0   0   0   0   0   0   0   0   0   0   0   0   0   0   0   0   0   0\n",
            "    0   0   0   0   0   0   0   0   0   0]\n",
            " [  0   0   0   0   0   0   0   0   0   0   0   0   3  18  18  18 126 136\n",
            "  175  26 166 255 247 127   0   0   0   0]\n",
            " [  0   0   0   0   0   0   0   0  30  36  94 154 170 253 253 253 253 253\n",
            "  225 172 253 242 195  64   0   0   0   0]\n",
            " [  0   0   0   0   0   0   0  49 238 253 253 253 253 253 253 253 253 251\n",
            "   93  82  82  56  39   0   0   0   0   0]\n",
            " [  0   0   0   0   0   0   0  18 219 253 253 253 253 253 198 182 247 241\n",
            "    0   0   0   0   0   0   0   0   0   0]\n",
            " [  0   0   0   0   0   0   0   0  80 156 107 253 253 205  11   0  43 154\n",
            "    0   0   0   0   0   0   0   0   0   0]\n",
            " [  0   0   0   0   0   0   0   0   0  14   1 154 253  90   0   0   0   0\n",
            "    0   0   0   0   0   0   0   0   0   0]\n",
            " [  0   0   0   0   0   0   0   0   0   0   0 139 253 190   2   0   0   0\n",
            "    0   0   0   0   0   0   0   0   0   0]\n",
            " [  0   0   0   0   0   0   0   0   0   0   0  11 190 253  70   0   0   0\n",
            "    0   0   0   0   0   0   0   0   0   0]\n",
            " [  0   0   0   0   0   0   0   0   0   0   0   0  35 241 225 160 108   1\n",
            "    0   0   0   0   0   0   0   0   0   0]\n",
            " [  0   0   0   0   0   0   0   0   0   0   0   0   0  81 240 253 253 119\n",
            "   25   0   0   0   0   0   0   0   0   0]\n",
            " [  0   0   0   0   0   0   0   0   0   0   0   0   0   0  45 186 253 253\n",
            "  150  27   0   0   0   0   0   0   0   0]\n",
            " [  0   0   0   0   0   0   0   0   0   0   0   0   0   0   0  16  93 252\n",
            "  253 187   0   0   0   0   0   0   0   0]\n",
            " [  0   0   0   0   0   0   0   0   0   0   0   0   0   0   0   0   0 249\n",
            "  253 249  64   0   0   0   0   0   0   0]\n",
            " [  0   0   0   0   0   0   0   0   0   0   0   0   0   0  46 130 183 253\n",
            "  253 207   2   0   0   0   0   0   0   0]\n",
            " [  0   0   0   0   0   0   0   0   0   0   0   0  39 148 229 253 253 253\n",
            "  250 182   0   0   0   0   0   0   0   0]\n",
            " [  0   0   0   0   0   0   0   0   0   0  24 114 221 253 253 253 253 201\n",
            "   78   0   0   0   0   0   0   0   0   0]\n",
            " [  0   0   0   0   0   0   0   0  23  66 213 253 253 253 253 198  81   2\n",
            "    0   0   0   0   0   0   0   0   0   0]\n",
            " [  0   0   0   0   0   0  18 171 219 253 253 253 253 195  80   9   0   0\n",
            "    0   0   0   0   0   0   0   0   0   0]\n",
            " [  0   0   0   0  55 172 226 253 253 253 253 244 133  11   0   0   0   0\n",
            "    0   0   0   0   0   0   0   0   0   0]\n",
            " [  0   0   0   0 136 253 253 253 212 135 132  16   0   0   0   0   0   0\n",
            "    0   0   0   0   0   0   0   0   0   0]\n",
            " [  0   0   0   0   0   0   0   0   0   0   0   0   0   0   0   0   0   0\n",
            "    0   0   0   0   0   0   0   0   0   0]\n",
            " [  0   0   0   0   0   0   0   0   0   0   0   0   0   0   0   0   0   0\n",
            "    0   0   0   0   0   0   0   0   0   0]\n",
            " [  0   0   0   0   0   0   0   0   0   0   0   0   0   0   0   0   0   0\n",
            "    0   0   0   0   0   0   0   0   0   0]]\n"
          ],
          "name": "stdout"
        }
      ]
    },
    {
      "cell_type": "code",
      "metadata": {
        "id": "GzT9zB34SDUU",
        "colab_type": "code",
        "outputId": "a13ed4d7-c4c5-4937-e155-59cc621ef036",
        "colab": {
          "base_uri": "https://localhost:8080/",
          "height": 1000
        }
      },
      "source": [
        "# Fit the model\n",
        "history=model.fit(X_train, y_train, validation_data=(X_test, y_test), epochs=config.epochs)"
      ],
      "execution_count": 0,
      "outputs": [
        {
          "output_type": "stream",
          "text": [
            "Train on 60000 samples, validate on 10000 samples\n",
            "Epoch 1/30\n",
            "60000/60000 [==============================] - 4s 61us/step - loss: 5.9188 - acc: 0.6250 - val_loss: 5.0364 - val_acc: 0.6819\n",
            "Epoch 2/30\n",
            "60000/60000 [==============================] - 3s 53us/step - loss: 4.4244 - acc: 0.7225 - val_loss: 4.1181 - val_acc: 0.7424\n",
            "Epoch 3/30\n",
            "60000/60000 [==============================] - 3s 53us/step - loss: 4.2874 - acc: 0.7314 - val_loss: 4.0579 - val_acc: 0.7467\n",
            "Epoch 4/30\n",
            "60000/60000 [==============================] - 3s 53us/step - loss: 4.2255 - acc: 0.7360 - val_loss: 4.1585 - val_acc: 0.7393\n",
            "Epoch 5/30\n",
            "60000/60000 [==============================] - 3s 52us/step - loss: 4.1940 - acc: 0.7384 - val_loss: 3.9923 - val_acc: 0.7513\n",
            "Epoch 6/30\n",
            "60000/60000 [==============================] - 3s 53us/step - loss: 4.1323 - acc: 0.7423 - val_loss: 4.2035 - val_acc: 0.7374\n",
            "Epoch 7/30\n",
            "60000/60000 [==============================] - 3s 57us/step - loss: 4.0978 - acc: 0.7447 - val_loss: 3.9622 - val_acc: 0.7535\n",
            "Epoch 8/30\n",
            "60000/60000 [==============================] - 3s 57us/step - loss: 3.9995 - acc: 0.7508 - val_loss: 3.8759 - val_acc: 0.7587\n",
            "Epoch 9/30\n",
            "60000/60000 [==============================] - 3s 56us/step - loss: 4.0482 - acc: 0.7480 - val_loss: 4.0879 - val_acc: 0.7455\n",
            "Epoch 10/30\n",
            "60000/60000 [==============================] - 3s 57us/step - loss: 3.9755 - acc: 0.7526 - val_loss: 4.0116 - val_acc: 0.7501\n",
            "Epoch 11/30\n",
            "60000/60000 [==============================] - 3s 53us/step - loss: 4.1212 - acc: 0.7434 - val_loss: 3.9162 - val_acc: 0.7564\n",
            "Epoch 12/30\n",
            "60000/60000 [==============================] - 3s 53us/step - loss: 3.9849 - acc: 0.7521 - val_loss: 4.0089 - val_acc: 0.7508\n",
            "Epoch 13/30\n",
            "60000/60000 [==============================] - 4s 64us/step - loss: 4.0221 - acc: 0.7497 - val_loss: 3.9505 - val_acc: 0.7542\n",
            "Epoch 14/30\n",
            "60000/60000 [==============================] - 4s 63us/step - loss: 3.9958 - acc: 0.7516 - val_loss: 3.9230 - val_acc: 0.7562\n",
            "Epoch 15/30\n",
            "60000/60000 [==============================] - 3s 53us/step - loss: 3.9676 - acc: 0.7534 - val_loss: 4.0930 - val_acc: 0.7457\n",
            "Epoch 16/30\n",
            "60000/60000 [==============================] - 3s 52us/step - loss: 3.9822 - acc: 0.7524 - val_loss: 3.8821 - val_acc: 0.7589\n",
            "Epoch 17/30\n",
            "60000/60000 [==============================] - 3s 54us/step - loss: 3.9594 - acc: 0.7539 - val_loss: 3.8123 - val_acc: 0.7633\n",
            "Epoch 18/30\n",
            "60000/60000 [==============================] - 3s 53us/step - loss: 3.9343 - acc: 0.7554 - val_loss: 3.8470 - val_acc: 0.7608\n",
            "Epoch 19/30\n",
            "60000/60000 [==============================] - 3s 56us/step - loss: 3.8993 - acc: 0.7577 - val_loss: 4.0460 - val_acc: 0.7486\n",
            "Epoch 20/30\n",
            "60000/60000 [==============================] - 3s 56us/step - loss: 4.1058 - acc: 0.7447 - val_loss: 3.8475 - val_acc: 0.7610\n",
            "Epoch 21/30\n",
            "60000/60000 [==============================] - 3s 53us/step - loss: 3.9355 - acc: 0.7555 - val_loss: 3.9922 - val_acc: 0.7520\n",
            "Epoch 22/30\n",
            "60000/60000 [==============================] - 3s 54us/step - loss: 4.0339 - acc: 0.7495 - val_loss: 4.0542 - val_acc: 0.7480\n",
            "Epoch 23/30\n",
            "60000/60000 [==============================] - 3s 56us/step - loss: 4.0167 - acc: 0.7504 - val_loss: 3.9500 - val_acc: 0.7546\n",
            "Epoch 24/30\n",
            "60000/60000 [==============================] - 3s 52us/step - loss: 3.9791 - acc: 0.7528 - val_loss: 4.1101 - val_acc: 0.7445\n",
            "Epoch 25/30\n",
            "60000/60000 [==============================] - 4s 59us/step - loss: 3.9965 - acc: 0.7517 - val_loss: 3.8675 - val_acc: 0.7599\n",
            "Epoch 26/30\n",
            "60000/60000 [==============================] - 4s 65us/step - loss: 3.9941 - acc: 0.7519 - val_loss: 4.3709 - val_acc: 0.7284\n",
            "Epoch 27/30\n",
            "60000/60000 [==============================] - 4s 59us/step - loss: 3.9851 - acc: 0.7525 - val_loss: 3.8894 - val_acc: 0.7585\n",
            "Epoch 28/30\n",
            "60000/60000 [==============================] - 3s 54us/step - loss: 4.0725 - acc: 0.7471 - val_loss: 4.1348 - val_acc: 0.7430\n",
            "Epoch 29/30\n",
            "60000/60000 [==============================] - 3s 53us/step - loss: 3.9545 - acc: 0.7544 - val_loss: 4.1961 - val_acc: 0.7394\n",
            "Epoch 30/30\n",
            "60000/60000 [==============================] - 3s 54us/step - loss: 3.9444 - acc: 0.7549 - val_loss: 3.8206 - val_acc: 0.7624\n"
          ],
          "name": "stdout"
        }
      ]
    },
    {
      "cell_type": "code",
      "metadata": {
        "id": "sbApQWEw7ryl",
        "colab_type": "code",
        "colab": {}
      },
      "source": [
        "import matplotlib.pyplot as plt"
      ],
      "execution_count": 0,
      "outputs": []
    },
    {
      "cell_type": "code",
      "metadata": {
        "id": "z9zKm-Qb8J8T",
        "colab_type": "code",
        "outputId": "7207718b-fd3e-4421-a06e-0293f8859435",
        "colab": {
          "base_uri": "https://localhost:8080/",
          "height": 34
        }
      },
      "source": [
        "type(history.history)"
      ],
      "execution_count": 0,
      "outputs": [
        {
          "output_type": "execute_result",
          "data": {
            "text/plain": [
              "dict"
            ]
          },
          "metadata": {
            "tags": []
          },
          "execution_count": 22
        }
      ]
    },
    {
      "cell_type": "code",
      "metadata": {
        "id": "8zs4N5Ks8XE4",
        "colab_type": "code",
        "outputId": "1e8d2add-c558-4919-96a0-71c8c9eb003e",
        "colab": {
          "base_uri": "https://localhost:8080/",
          "height": 286
        }
      },
      "source": [
        "plt.plot(history.epoch, history.history['acc'])"
      ],
      "execution_count": 0,
      "outputs": [
        {
          "output_type": "execute_result",
          "data": {
            "text/plain": [
              "[<matplotlib.lines.Line2D at 0x7f2561664a20>]"
            ]
          },
          "metadata": {
            "tags": []
          },
          "execution_count": 23
        },
        {
          "output_type": "display_data",
          "data": {
            "image/png": "[encoded data removed]",
            "text/plain": [
              "<Figure size 432x288 with 1 Axes>"
            ]
          },
          "metadata": {
            "tags": []
          }
        }
      ]
    },
    {
      "cell_type": "code",
      "metadata": {
        "id": "fPCLNbNK8Y44",
        "colab_type": "code",
        "outputId": "cc747f96-a2b1-4a02-d98b-fd95f975e44c",
        "colab": {
          "base_uri": "https://localhost:8080/",
          "height": 286
        }
      },
      "source": [
        "plt.plot(history.epoch, history.history['acc'])\n",
        "plt.plot(history.epoch, history.history['val_acc'])"
      ],
      "execution_count": 0,
      "outputs": [
        {
          "output_type": "execute_result",
          "data": {
            "text/plain": [
              "[<matplotlib.lines.Line2D at 0x7f255edb80f0>]"
            ]
          },
          "metadata": {
            "tags": []
          },
          "execution_count": 24
        },
        {
          "output_type": "display_data",
          "data": {
            "image/png": "[encoded data removed]",
            "text/plain": [
              "<Figure size 432x288 with 1 Axes>"
            ]
          },
          "metadata": {
            "tags": []
          }
        }
      ]
    }
  ]
}